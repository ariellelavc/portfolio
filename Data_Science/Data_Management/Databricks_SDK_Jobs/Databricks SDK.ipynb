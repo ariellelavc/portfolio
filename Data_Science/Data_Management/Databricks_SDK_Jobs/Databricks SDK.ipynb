{
 "cells": [
  {
   "cell_type": "markdown",
   "metadata": {
    "application/vnd.databricks.v1+cell": {
     "cellMetadata": {},
     "inputWidgets": {},
     "nuid": "df7ab015-d117-4bbf-914d-53411acc5df0",
     "showTitle": false,
     "title": ""
    }
   },
   "source": [
    "#### Install Databricks SDK"
   ]
  },
  {
   "cell_type": "code",
   "execution_count": 0,
   "metadata": {
    "application/vnd.databricks.v1+cell": {
     "cellMetadata": {
      "byteLimit": 2048000,
      "rowLimit": 10000
     },
     "inputWidgets": {},
     "nuid": "525b279c-44e9-4414-a1d4-45a1f02d56a2",
     "showTitle": false,
     "title": ""
    }
   },
   "outputs": [],
   "source": [
    "%pip install databricks-sdk --upgrade"
   ]
  },
  {
   "cell_type": "code",
   "execution_count": 0,
   "metadata": {
    "application/vnd.databricks.v1+cell": {
     "cellMetadata": {
      "byteLimit": 2048000,
      "rowLimit": 10000
     },
     "inputWidgets": {},
     "nuid": "f067cac1-4c78-4667-a30d-d895b4ef0cda",
     "showTitle": false,
     "title": ""
    }
   },
   "outputs": [],
   "source": [
    "dbutils.library.restartPython()"
   ]
  },
  {
   "cell_type": "code",
   "execution_count": 0,
   "metadata": {
    "application/vnd.databricks.v1+cell": {
     "cellMetadata": {
      "byteLimit": 2048000,
      "rowLimit": 10000
     },
     "inputWidgets": {},
     "nuid": "53f57100-1738-48b7-89e4-db42bd53b7e5",
     "showTitle": false,
     "title": ""
    }
   },
   "outputs": [
    {
     "output_type": "stream",
     "name": "stdout",
     "output_type": "stream",
     "text": [
      "0.33.0\n"
     ]
    }
   ],
   "source": [
    "%pip show databricks-sdk | grep -oP '(?<=Version: )\\S+'"
   ]
  },
  {
   "cell_type": "markdown",
   "metadata": {
    "application/vnd.databricks.v1+cell": {
     "cellMetadata": {},
     "inputWidgets": {},
     "nuid": "dfb093d9-1d40-4d28-b071-847a1a8e33a1",
     "showTitle": false,
     "title": ""
    }
   },
   "source": [
    "#### Create a Databricks job"
   ]
  },
  {
   "cell_type": "code",
   "execution_count": 0,
   "metadata": {
    "application/vnd.databricks.v1+cell": {
     "cellMetadata": {
      "byteLimit": 2048000,
      "rowLimit": 10000
     },
     "inputWidgets": {},
     "nuid": "9309cf55-fc69-4fac-9c27-6aa5494d630a",
     "showTitle": false,
     "title": ""
    }
   },
   "outputs": [],
   "source": [
    "from databricks.sdk import WorkspaceClient\n",
    "from databricks.sdk.service.jobs import Task, NotebookTask, Source\n",
    "\n",
    "w = WorkspaceClient()\n",
    "\n",
    "job_name = \"Databricks SDK Job\"\n",
    "description = \"Databricks SDK Job to Run a Delta Live Tables Data Pipeline\"\n",
    "existing_cluster_id = \"dlt\"\n",
    "notebook_path = \"/Users/xxx@xxxxx.xxx/Delta Live Tables - Python\"\n",
    "task_key = \"dlt_task\"\n",
    "\n",
    "print(\"Attempting to create the job. Please wait...\\n\")\n",
    "\n",
    "j = w.jobs.create(\n",
    "    name = job_name,\n",
    "    tasks = [\n",
    "        Task(\n",
    "            description = description,\n",
    "            existing_cluster_id = existing_cluster_id,\n",
    "            notebook_task = NotebookTask(\n",
    "                base_parameters=dict(\"\"),\n",
    "                notebook_path=notebook_path,\n",
    "                source=Source(\"WORKSPACE\")\n",
    "            ),\n",
    "            task_key = task_key\n",
    "        )\n",
    "    ]\n",
    ")\n",
    "\n",
    "print(f\"View the job at {w.config.host}/#job/{j.job_id}\\n\")"
   ]
  },
  {
   "cell_type": "markdown",
   "metadata": {
    "application/vnd.databricks.v1+cell": {
     "cellMetadata": {},
     "inputWidgets": {},
     "nuid": "6e151568-eef5-4a7f-a6c1-1074d69c2a94",
     "showTitle": false,
     "title": ""
    }
   },
   "source": [
    "#### Run, cancel, and delete the job"
   ]
  },
  {
   "cell_type": "code",
   "execution_count": 0,
   "metadata": {
    "application/vnd.databricks.v1+cell": {
     "cellMetadata": {},
     "inputWidgets": {},
     "nuid": "2a291bbe-a796-42d3-ad3e-4cf4072a6086",
     "showTitle": false,
     "title": ""
    }
   },
   "outputs": [],
   "source": [
    "run_now_response = w.jobs.run_now(job_id=j.job_id)\n",
    "\n",
    "cancelled_run = w.jobs.cancel_run(run_id=run_now_response.response.run_id).result()\n",
    "\n",
    "# cleanup\n",
    "w.jobs.delete(job_id=j.job_id)"
   ]
  }
 ],
 "metadata": {
  "application/vnd.databricks.v1+notebook": {
   "dashboards": [],
   "environmentMetadata": null,
   "language": "python",
   "notebookMetadata": {
    "pythonIndentUnit": 4
   },
   "notebookName": "Databricks SDK",
   "widgets": {}
  }
 },
 "nbformat": 4,
 "nbformat_minor": 0
}
