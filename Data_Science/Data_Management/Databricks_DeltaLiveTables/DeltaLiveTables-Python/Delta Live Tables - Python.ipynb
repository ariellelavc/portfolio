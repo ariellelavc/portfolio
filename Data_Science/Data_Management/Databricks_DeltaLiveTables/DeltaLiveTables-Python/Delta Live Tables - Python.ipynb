{
 "cells": [
  {
   "cell_type": "markdown",
   "metadata": {
    "application/vnd.databricks.v1+cell": {
     "cellMetadata": {},
     "inputWidgets": {},
     "nuid": "4cc9d5c7-2ab3-4b5e-ae1f-eea796a65801",
     "showTitle": false,
     "title": ""
    }
   },
   "source": [
    "## Delta Live Tables (Python)"
   ]
  },
  {
   "cell_type": "markdown",
   "metadata": {
    "application/vnd.databricks.v1+cell": {
     "cellMetadata": {},
     "inputWidgets": {},
     "nuid": "848492a6-a393-44bf-94bd-6a2f56132a2d",
     "showTitle": false,
     "title": ""
    }
   },
   "source": [
    "Imports"
   ]
  },
  {
   "cell_type": "code",
   "execution_count": 0,
   "metadata": {
    "application/vnd.databricks.v1+cell": {
     "cellMetadata": {
      "byteLimit": 2048000,
      "rowLimit": 10000
     },
     "inputWidgets": {},
     "nuid": "58acf93b-4b50-4447-88fc-de1412b562e1",
     "showTitle": false,
     "title": ""
    }
   },
   "outputs": [],
   "source": [
    "import dlt\n",
    "from pyspark.sql.functions import *"
   ]
  },
  {
   "cell_type": "markdown",
   "metadata": {
    "application/vnd.databricks.v1+cell": {
     "cellMetadata": {
      "byteLimit": 2048000,
      "rowLimit": 10000
     },
     "inputWidgets": {},
     "nuid": "ed4bf276-7823-4507-acfb-291a5177366a",
     "showTitle": false,
     "title": ""
    }
   },
   "source": [
    "Download dataset and store in a Unity Catalog volume"
   ]
  },
  {
   "cell_type": "code",
   "execution_count": 0,
   "metadata": {
    "application/vnd.databricks.v1+cell": {
     "cellMetadata": {
      "byteLimit": 2048000,
      "rowLimit": 10000
     },
     "inputWidgets": {},
     "nuid": "7ea75bb3-4f1f-4d8f-9baa-b5e0ea15939b",
     "showTitle": false,
     "title": ""
    }
   },
   "outputs": [
    {
     "output_type": "execute_result",
     "data": {
      "text/plain": [
       "True"
      ]
     },
     "execution_count": 2,
     "metadata": {},
     "output_type": "execute_result"
    }
   ],
   "source": [
    "import os\n",
    "\n",
    "os.environ[\"UNITY_CATALOG_VOLUME_PATH\"] = \"/Volumes/main/default/unity-volume/\"\n",
    "os.environ[\"DATASET_DOWNLOAD_URL\"] = \"https://health.data.ny.gov/api/views/jxy9-yhdk/rows.csv\"\n",
    "os.environ[\"DATASET_DOWNLOAD_FILENAME\"] = \"rows.csv\"\n",
    "\n",
    "dbutils.fs.cp(f\"{os.environ.get('DATASET_DOWNLOAD_URL')}\", f\"{os.environ.get('UNITY_CATALOG_VOLUME_PATH')}{os.environ.get('DATASET_DOWNLOAD_FILENAME')}\")"
   ]
  },
  {
   "cell_type": "markdown",
   "metadata": {
    "application/vnd.databricks.v1+cell": {
     "cellMetadata": {
      "byteLimit": 2048000,
      "rowLimit": 10000
     },
     "inputWidgets": {},
     "nuid": "7be6e9e4-772c-418c-b021-352be609d7c2",
     "showTitle": false,
     "title": ""
    }
   },
   "source": [
    "Ingest raw data into a bronze (raw) table"
   ]
  },
  {
   "cell_type": "code",
   "execution_count": 0,
   "metadata": {
    "application/vnd.databricks.v1+cell": {
     "cellMetadata": {
      "byteLimit": 2048000,
      "rowLimit": 10000
     },
     "inputWidgets": {},
     "nuid": "15c96650-7149-46b7-b0ec-21f85231fe42",
     "showTitle": false,
     "title": ""
    }
   },
   "outputs": [],
   "source": [
    "@dlt.table(\n",
    "  comment=\"Data ingested from NY State Department of Health\"\n",
    ")\n",
    "def dlt_bronze():\n",
    "  df = spark.read.csv(f\"{os.environ.get('UNITY_CATALOG_VOLUME_PATH')}{os.environ.get('DATASET_DOWNLOAD_FILENAME')}\", header=True, inferSchema=True)\n",
    "  df_renamed_column = df.withColumnRenamed(\"First Name\", \"First_Name\")\n",
    "  return df_renamed_column"
   ]
  },
  {
   "cell_type": "markdown",
   "metadata": {
    "application/vnd.databricks.v1+cell": {
     "cellMetadata": {
      "byteLimit": 2048000,
      "rowLimit": 10000
     },
     "inputWidgets": {},
     "nuid": "13768f47-3c6e-414f-8dc0-ccf3077a9721",
     "showTitle": false,
     "title": ""
    }
   },
   "source": [
    "Clean and prepare data"
   ]
  },
  {
   "cell_type": "code",
   "execution_count": 0,
   "metadata": {
    "application/vnd.databricks.v1+cell": {
     "cellMetadata": {
      "byteLimit": 2048000,
      "rowLimit": 10000
     },
     "inputWidgets": {},
     "nuid": "dbce52a4-8bb2-4643-97dc-94af71cd94a3",
     "showTitle": false,
     "title": ""
    }
   },
   "outputs": [],
   "source": [
    "@dlt.table(\n",
    "  comment=\"Data cleaned and prepared for analysis\"\n",
    ")\n",
    "@dlt.expect(\"valid_first_name\", \"First_Nmae IS NOT NULL\")\n",
    "@dlt.expect_or_fail(\"valid_count\", \"Count > 0\")\n",
    "def dlt_silver():\n",
    "  return (\n",
    "    dlt.read(\"dlt_bronze\")\n",
    "    .withColumnRenamed(\"Year\", \"Year_Of_Birth\")\n",
    "    .select(\"Year_Of_Birth\", \"First_Name\", \"Count\")\n",
    "  )"
   ]
  },
  {
   "cell_type": "markdown",
   "metadata": {
    "application/vnd.databricks.v1+cell": {
     "cellMetadata": {
      "byteLimit": 2048000,
      "rowLimit": 10000
     },
     "inputWidgets": {},
     "nuid": "0da5c68c-0cfb-47f1-85e9-d933adbedaa6",
     "showTitle": false,
     "title": ""
    }
   },
   "source": [
    "Aggregate data"
   ]
  },
  {
   "cell_type": "code",
   "execution_count": 0,
   "metadata": {
    "application/vnd.databricks.v1+cell": {
     "cellMetadata": {
      "byteLimit": 2048000,
      "rowLimit": 10000
     },
     "inputWidgets": {},
     "nuid": "a15fcb8d-1dbd-494a-bbcd-c2342f066249",
     "showTitle": false,
     "title": ""
    }
   },
   "outputs": [],
   "source": [
    "@dlt.table(\n",
    "  comment=\"A table summarizing counts of the top names for NY in 2021.\"\n",
    ")\n",
    "def dlt_gold():\n",
    "  return (\n",
    "    dlt.read(\"dlt_silver\")\n",
    "      .filter(expr(\"Year_Of_Birth == 2021\"))\n",
    "      .groupBy(\"First_Name\")\n",
    "      .agg(sum(\"Count\").alias(\"Total_Count\"))\n",
    "      .sort(desc(\"Total_Count\"))\n",
    "      .limit(10)\n",
    "  )"
   ]
  }
 ],
 "metadata": {
  "application/vnd.databricks.v1+notebook": {
   "dashboards": [],
   "environmentMetadata": null,
   "language": "python",
   "notebookMetadata": {
    "pythonIndentUnit": 4
   },
   "notebookName": "Delta Live Tables -Python",
   "widgets": {}
  }
 },
 "nbformat": 4,
 "nbformat_minor": 0
}
