{
 "cells": [
  {
   "cell_type": "markdown",
   "metadata": {},
   "source": [
    "![Prostate Cancer](images/ProstateCancer.png)"
   ]
  },
  {
   "cell_type": "markdown",
   "metadata": {},
   "source": [
    "### Urgent unmet clinical need for innovative therapeutics for management of lethal CRPC and NEPC\n",
    "\n",
    "### Strategy: Target the oncogenic activity of Myc - the most sought after drug targets, causally implicated in most if not all human cancers, often correlated with disease aggressiveness"
   ]
  },
  {
   "cell_type": "markdown",
   "metadata": {},
   "source": [
    "![Myc paralogs_amplifications_prostate_cancer](images/Myc_paralogs_amplifications.png)"
   ]
  },
  {
   "cell_type": "markdown",
   "metadata": {},
   "source": [
    "![Myc_drugging_challenges](images/Myc_drugging_challenges.png)"
   ]
  },
  {
   "cell_type": "markdown",
   "metadata": {},
   "source": [
    "![Targeting_c-N-Myc-Max_Identical_Binding_Site](images/Targeting_Myc-Max_Identical_Binding_Site.png)"
   ]
  },
  {
   "cell_type": "markdown",
   "metadata": {},
   "source": [
    "## X-ray structure of c-Myc-Max heterodimer in complex with DNA\n",
    "\n",
    "### PDB ID: 1NKP"
   ]
  },
  {
   "cell_type": "code",
   "execution_count": 1,
   "metadata": {},
   "outputs": [],
   "source": [
    "import Bio.PDB.PDBParser\n",
    "import itertools"
   ]
  },
  {
   "cell_type": "code",
   "execution_count": 2,
   "metadata": {},
   "outputs": [],
   "source": [
    "fn = '1NKP.pdb'"
   ]
  },
  {
   "cell_type": "code",
   "execution_count": 3,
   "metadata": {},
   "outputs": [],
   "source": [
    "parser = Bio.PDB.PDBParser(QUIET=True)\n",
    "structure = parser.get_structure(fn.split('.')[0], fn)"
   ]
  },
  {
   "cell_type": "code",
   "execution_count": 4,
   "metadata": {
    "scrolled": true
   },
   "outputs": [
    {
     "data": {
      "application/vnd.jupyter.widget-view+json": {
       "model_id": "6f6dba3f8ce5457696076138513ba143",
       "version_major": 2,
       "version_minor": 0
      },
      "text/plain": []
     },
     "metadata": {},
     "output_type": "display_data"
    },
    {
     "data": {
      "application/vnd.jupyter.widget-view+json": {
       "model_id": "4b72f39bfef64afabdd805dac7c34ee9",
       "version_major": 2,
       "version_minor": 0
      },
      "text/plain": [
       "NGLWidget()"
      ]
     },
     "metadata": {},
     "output_type": "display_data"
    }
   ],
   "source": [
    "import nglview as nv\n",
    "\n",
    "view = nv.show_biopython(structure)\n",
    "display(view)"
   ]
  },
  {
   "cell_type": "code",
   "execution_count": 5,
   "metadata": {},
   "outputs": [
    {
     "name": "stdout",
     "output_type": "stream",
     "text": [
      "crystal structure of myc-max recognizing dna\n",
      "transcription, dna, bhlhz, oncogene, heterodimer, transcription-dna complex\n"
     ]
    },
    {
     "data": {
      "text/plain": [
       "['F', 'G', 'A', 'B']"
      ]
     },
     "execution_count": 5,
     "metadata": {},
     "output_type": "execute_result"
    }
   ],
   "source": [
    "name = structure.header[\"name\"]\n",
    "print(name)\n",
    "\n",
    "keywords = structure.header[\"keywords\"]\n",
    "print(keywords)\n",
    "\n",
    "[chain.get_id() for chain in structure[0]]"
   ]
  },
  {
   "cell_type": "markdown",
   "metadata": {},
   "source": [
    "## c-Myc-Max heterodimer"
   ]
  },
  {
   "cell_type": "code",
   "execution_count": 6,
   "metadata": {},
   "outputs": [],
   "source": [
    "from Bio.PDB import PDBIO, Select\n",
    "\n",
    "class PolypeptideSelect(Select):\n",
    "    def accept_chain(self, chain):\n",
    "        if chain.get_id() in ['A', 'B']:\n",
    "            return 1\n",
    "        else:\n",
    "            return 0\n",
    "        \n",
    "io = PDBIO()\n",
    "io.set_structure(structure)\n",
    "io.save('1nkp_ab.pdb', PolypeptideSelect())"
   ]
  },
  {
   "cell_type": "code",
   "execution_count": 7,
   "metadata": {},
   "outputs": [
    {
     "data": {
      "application/vnd.jupyter.widget-view+json": {
       "model_id": "5b0c5a579add4710bd00afe0464997f3",
       "version_major": 2,
       "version_minor": 0
      },
      "text/plain": [
       "NGLWidget()"
      ]
     },
     "metadata": {},
     "output_type": "display_data"
    }
   ],
   "source": [
    "fn = '1nkp_ab.pdb'\n",
    "structure = Bio.PDB.PDBParser(QUIET=True).get_structure(fn.split('.')[0], fn)\n",
    "\n",
    "view = nv.show_biopython(structure)\n",
    "display(view)"
   ]
  },
  {
   "cell_type": "markdown",
   "metadata": {},
   "source": [
    "##  Residues"
   ]
  },
  {
   "cell_type": "code",
   "execution_count": 8,
   "metadata": {},
   "outputs": [],
   "source": [
    "class ResidueSelect(Select):\n",
    "    def accept_residue(self, residue):\n",
    "        if residue.get_resname() != 'HOH':\n",
    "            return 1\n",
    "        else:\n",
    "            return 0\n",
    "        \n",
    "io = PDBIO()\n",
    "io.set_structure(structure)\n",
    "io.save('1nkp_ab_noHOH.pdb', ResidueSelect())"
   ]
  },
  {
   "cell_type": "code",
   "execution_count": 9,
   "metadata": {},
   "outputs": [
    {
     "name": "stdout",
     "output_type": "stream",
     "text": [
      "c-Myc residues: 88\n"
     ]
    },
    {
     "data": {
      "text/plain": [
       "['GLY897',\n",
       " 'HIS898',\n",
       " 'MET899',\n",
       " 'ASN900',\n",
       " 'VAL901',\n",
       " 'LYS902',\n",
       " 'ARG903',\n",
       " 'ARG904',\n",
       " 'THR905',\n",
       " 'HIS906',\n",
       " 'ASN907',\n",
       " 'VAL908',\n",
       " 'LEU909',\n",
       " 'GLU910',\n",
       " 'ARG911',\n",
       " 'GLN912',\n",
       " 'ARG913',\n",
       " 'ARG914',\n",
       " 'ASN915',\n",
       " 'GLU916',\n",
       " 'LEU917',\n",
       " 'LYS918',\n",
       " 'ARG919',\n",
       " 'SER920',\n",
       " 'PHE921',\n",
       " 'PHE922',\n",
       " 'ALA923',\n",
       " 'LEU924',\n",
       " 'ARG925',\n",
       " 'ASP926',\n",
       " 'GLN927',\n",
       " 'ILE928',\n",
       " 'PRO929',\n",
       " 'GLU930',\n",
       " 'LEU931',\n",
       " 'GLU932',\n",
       " 'ASN933',\n",
       " 'ASN934',\n",
       " 'GLU935',\n",
       " 'LYS936',\n",
       " 'ALA937',\n",
       " 'PRO938',\n",
       " 'LYS939',\n",
       " 'VAL940',\n",
       " 'VAL941',\n",
       " 'ILE942',\n",
       " 'LEU943',\n",
       " 'LYS944',\n",
       " 'LYS945',\n",
       " 'ALA946',\n",
       " 'THR947',\n",
       " 'ALA948',\n",
       " 'TYR949',\n",
       " 'ILE950',\n",
       " 'LEU951',\n",
       " 'SER952',\n",
       " 'VAL953',\n",
       " 'GLN954',\n",
       " 'ALA955',\n",
       " 'GLU956',\n",
       " 'GLU957',\n",
       " 'GLN958',\n",
       " 'LYS959',\n",
       " 'LEU960',\n",
       " 'ILE961',\n",
       " 'SER962',\n",
       " 'GLU963',\n",
       " 'GLU964',\n",
       " 'ASP965',\n",
       " 'LEU966',\n",
       " 'LEU967',\n",
       " 'ARG968',\n",
       " 'LYS969',\n",
       " 'ARG970',\n",
       " 'ARG971',\n",
       " 'GLU972',\n",
       " 'GLN973',\n",
       " 'LEU974',\n",
       " 'LYS975',\n",
       " 'HIS976',\n",
       " 'LYS977',\n",
       " 'LEU978',\n",
       " 'GLU979',\n",
       " 'GLN980',\n",
       " 'LEU981',\n",
       " 'GLY982',\n",
       " 'GLY983',\n",
       " 'CYS984']"
      ]
     },
     "execution_count": 9,
     "metadata": {},
     "output_type": "execute_result"
    }
   ],
   "source": [
    "fn1 = '1NKP_ab_noHOH.pdb'\n",
    "structure1 = Bio.PDB.PDBParser(QUIET=True).get_structure(fn1.split('.')[0], fn1)\n",
    "residues1 = structure1[0][\"A\"] #a generator\n",
    "residues1_list = list(residues1)\n",
    "print('c-Myc residues: ' + str(len(residues1_list)))\n",
    "[res.get_resname() + str(res.get_id()[1]) for res in residues1_list]"
   ]
  },
  {
   "cell_type": "code",
   "execution_count": 10,
   "metadata": {},
   "outputs": [
    {
     "name": "stdout",
     "output_type": "stream",
     "text": [
      "Max residues: 83\n"
     ]
    },
    {
     "data": {
      "text/plain": [
       "['ASP202',\n",
       " 'LYS203',\n",
       " 'ARG204',\n",
       " 'ALA205',\n",
       " 'HIS206',\n",
       " 'HIS207',\n",
       " 'ASN208',\n",
       " 'ALA209',\n",
       " 'LEU210',\n",
       " 'GLU211',\n",
       " 'ARG212',\n",
       " 'LYS213',\n",
       " 'ARG214',\n",
       " 'ARG215',\n",
       " 'ASP216',\n",
       " 'HIS217',\n",
       " 'ILE218',\n",
       " 'LYS219',\n",
       " 'ASP220',\n",
       " 'SER221',\n",
       " 'PHE222',\n",
       " 'HIS223',\n",
       " 'SER224',\n",
       " 'LEU225',\n",
       " 'ARG226',\n",
       " 'ASP227',\n",
       " 'SER228',\n",
       " 'VAL229',\n",
       " 'PRO230',\n",
       " 'SER231',\n",
       " 'LEU232',\n",
       " 'GLN233',\n",
       " 'GLY234',\n",
       " 'GLU235',\n",
       " 'LYS236',\n",
       " 'ALA237',\n",
       " 'SER238',\n",
       " 'ARG239',\n",
       " 'ALA240',\n",
       " 'GLN241',\n",
       " 'ILE242',\n",
       " 'LEU243',\n",
       " 'ASP244',\n",
       " 'LYS245',\n",
       " 'ALA246',\n",
       " 'THR247',\n",
       " 'GLU248',\n",
       " 'TYR249',\n",
       " 'ILE250',\n",
       " 'GLN251',\n",
       " 'TYR252',\n",
       " 'MET253',\n",
       " 'ARG254',\n",
       " 'ARG255',\n",
       " 'LYS256',\n",
       " 'ASN257',\n",
       " 'HIS258',\n",
       " 'THR259',\n",
       " 'HIS260',\n",
       " 'GLN261',\n",
       " 'GLN262',\n",
       " 'ASP263',\n",
       " 'ILE264',\n",
       " 'ASP265',\n",
       " 'ASP266',\n",
       " 'LEU267',\n",
       " 'LYS268',\n",
       " 'ARG269',\n",
       " 'GLN270',\n",
       " 'ASN271',\n",
       " 'ALA272',\n",
       " 'LEU273',\n",
       " 'LEU274',\n",
       " 'GLU275',\n",
       " 'GLN276',\n",
       " 'GLN277',\n",
       " 'VAL278',\n",
       " 'ARG279',\n",
       " 'ALA280',\n",
       " 'LEU281',\n",
       " 'GLY282',\n",
       " 'GLY283',\n",
       " 'CYS284']"
      ]
     },
     "execution_count": 10,
     "metadata": {},
     "output_type": "execute_result"
    }
   ],
   "source": [
    "residues2 = structure1[0][\"B\"]\n",
    "residues2_list = list(residues2)\n",
    "print('Max residues: ' + str(len(residues2_list)))\n",
    "[res.get_resname() + str(res.get_id()[1]) for res in residues2_list]"
   ]
  },
  {
   "cell_type": "markdown",
   "metadata": {},
   "source": [
    "## N-Myc-Max homology model"
   ]
  },
  {
   "cell_type": "code",
   "execution_count": 11,
   "metadata": {},
   "outputs": [
    {
     "data": {
      "text/plain": [
       "\"\\n#Homology modeling by the Modeller automodel class \\nfrom modeller import *              # Load standard Modeller classes\\nfrom modeller.automodel import *    # Load the automodel class\\n\\nlog.verbose()    # request verbose output\\nenv = environ()  # create a new MODELLER environment to build this model in\\n\\n#directories for input atom files\\nenv.io.atom_files_directory = ['.', '../atom_files']\\n\\n#env.io.hetatm = True\\n\\na = automodel(env,\\n              alnfile  = 'alignment.ali',         # alignment filename\\n              knowns   = '1nkp',                  # codes of the template(s)\\n              sequence = 'n_homology_model',      # code of the target\\n              assess_methods = (assess.DOPE))     # energy score\\na.starting_model= 1                               # index of the first model\\na.ending_model  = 10                              # index of the last model (how many models to calculate)\\n                                              \\n\\n#Through VTFM optimization:\\na.library_schedule=autosched.slow\\na.max_var_iterations = 300\\n\\n#Through MD optimization:\\na.md_level = refine.slow\\n\\na.make()                                          # do the actual homology modeling\\n\""
      ]
     },
     "execution_count": 11,
     "metadata": {},
     "output_type": "execute_result"
    }
   ],
   "source": [
    "# MODELLER script used to generate N-Myc homology models\n",
    "# using c-Myc-Max structure as template \n",
    "\n",
    "'''\n",
    "#Homology modeling by the Modeller automodel class \n",
    "from modeller import *              # Load standard Modeller classes\n",
    "from modeller.automodel import *    # Load the automodel class\n",
    "\n",
    "log.verbose()    # request verbose output\n",
    "env = environ()  # create a new MODELLER environment to build this model in\n",
    "\n",
    "#directories for input atom files\n",
    "env.io.atom_files_directory = ['.', '../atom_files']\n",
    "\n",
    "#env.io.hetatm = True\n",
    "\n",
    "a = automodel(env,\n",
    "              alnfile  = 'alignment.ali',         # alignment filename\n",
    "              knowns   = '1nkp',                  # codes of the template(s)\n",
    "              sequence = 'n_homology_model',      # code of the target\n",
    "              assess_methods = (assess.DOPE))     # energy score\n",
    "a.starting_model= 1                               # index of the first model\n",
    "a.ending_model  = 10                              # index of the last model (how many models to calculate)\n",
    "                                              \n",
    "\n",
    "#Through VTFM optimization:\n",
    "a.library_schedule=autosched.slow\n",
    "a.max_var_iterations = 300\n",
    "\n",
    "#Through MD optimization:\n",
    "a.md_level = refine.slow\n",
    "\n",
    "a.make()                                          # do the actual homology modeling\n",
    "'''"
   ]
  },
  {
   "cell_type": "code",
   "execution_count": 12,
   "metadata": {},
   "outputs": [
    {
     "name": "stdout",
     "output_type": "stream",
     "text": [
      "\n",
      ">P1;1NKP\n",
      "structureX:1NKP:6    :A:88   :A:::: \n",
      "\n",
      "GHMNVKRRTHNVLERQRRNELKRSFFALRDQIPELENNEKAPKVVILKKATAYILSVQAEEQKLISEEDLLRKRREQLKHKLEQLGGC*\n",
      "\n",
      ">P1;MYCN\n",
      "\n",
      "sequence:MYCN:6    : :88   : ::::\n",
      "SEDSERRRNHNILERQRRNDLRSSFLTLRDHVPELVKNEKAAKVVILKKATEYVHSLQAEEHQLLLEKEKLQARQQQLLKKIEHARTC*\n"
     ]
    }
   ],
   "source": [
    "# Content of the structure-sequence alignment file\n",
    "\n",
    "with open('alignment.ali') as f:\n",
    "    aln = f.read()\n",
    "    print(aln)"
   ]
  },
  {
   "cell_type": "code",
   "execution_count": 13,
   "metadata": {},
   "outputs": [
    {
     "data": {
      "application/vnd.jupyter.widget-view+json": {
       "model_id": "b836e1e35b10401f99480257373e13cc",
       "version_major": 2,
       "version_minor": 0
      },
      "text/plain": [
       "NGLWidget()"
      ]
     },
     "metadata": {},
     "output_type": "display_data"
    }
   ],
   "source": [
    "fn2 = 'n_homology_model.pdb'\n",
    "structure2 = Bio.PDB.PDBParser(QUIET=True).get_structure(fn2.split('.')[0], fn2)\n",
    "\n",
    "view = nv.show_biopython(structure2)\n",
    "view"
   ]
  },
  {
   "cell_type": "code",
   "execution_count": 14,
   "metadata": {},
   "outputs": [
    {
     "name": "stdout",
     "output_type": "stream",
     "text": [
      "N-Myc residues: 88\n"
     ]
    },
    {
     "data": {
      "text/plain": [
       "['SER1',\n",
       " 'GLU2',\n",
       " 'ASP3',\n",
       " 'SER4',\n",
       " 'GLU5',\n",
       " 'ARG6',\n",
       " 'ARG7',\n",
       " 'ARG8',\n",
       " 'ASN9',\n",
       " 'HIS10',\n",
       " 'ASN11',\n",
       " 'ILE12',\n",
       " 'LEU13',\n",
       " 'GLU14',\n",
       " 'ARG15',\n",
       " 'GLN16',\n",
       " 'ARG17',\n",
       " 'ARG18',\n",
       " 'ASN19',\n",
       " 'ASP20',\n",
       " 'LEU21',\n",
       " 'ARG22',\n",
       " 'SER23',\n",
       " 'SER24',\n",
       " 'PHE25',\n",
       " 'LEU26',\n",
       " 'THR27',\n",
       " 'LEU28',\n",
       " 'ARG29',\n",
       " 'ASP30',\n",
       " 'HIS31',\n",
       " 'VAL32',\n",
       " 'PRO33',\n",
       " 'GLU34',\n",
       " 'LEU35',\n",
       " 'VAL36',\n",
       " 'LYS37',\n",
       " 'ASN38',\n",
       " 'GLU39',\n",
       " 'LYS40',\n",
       " 'ALA41',\n",
       " 'ALA42',\n",
       " 'LYS43',\n",
       " 'VAL44',\n",
       " 'VAL45',\n",
       " 'ILE46',\n",
       " 'LEU47',\n",
       " 'LYS48',\n",
       " 'LYS49',\n",
       " 'ALA50',\n",
       " 'THR51',\n",
       " 'GLU52',\n",
       " 'TYR53',\n",
       " 'VAL54',\n",
       " 'HIS55',\n",
       " 'SER56',\n",
       " 'LEU57',\n",
       " 'GLN58',\n",
       " 'ALA59',\n",
       " 'GLU60',\n",
       " 'GLU61',\n",
       " 'HIS62',\n",
       " 'GLN63',\n",
       " 'LEU64',\n",
       " 'LEU65',\n",
       " 'LEU66',\n",
       " 'GLU67',\n",
       " 'LYS68',\n",
       " 'GLU69',\n",
       " 'LYS70',\n",
       " 'LEU71',\n",
       " 'GLN72',\n",
       " 'ALA73',\n",
       " 'ARG74',\n",
       " 'GLN75',\n",
       " 'GLN76',\n",
       " 'GLN77',\n",
       " 'LEU78',\n",
       " 'LEU79',\n",
       " 'LYS80',\n",
       " 'LYS81',\n",
       " 'ILE82',\n",
       " 'GLU83',\n",
       " 'HIS84',\n",
       " 'ALA85',\n",
       " 'ARG86',\n",
       " 'THR87',\n",
       " 'CYS88']"
      ]
     },
     "execution_count": 14,
     "metadata": {},
     "output_type": "execute_result"
    }
   ],
   "source": [
    "residues2 = structure2[0][\" \"]\n",
    "\n",
    "residues2_list = list(residues2)\n",
    "print('N-Myc residues: ' + str(len(residues2_list)))\n",
    "[res.get_resname() + str(res.get_id()[1]) for res in residues2_list]"
   ]
  },
  {
   "cell_type": "markdown",
   "metadata": {},
   "source": [
    "## Quality of the N-Myc-Max homology model\n",
    "\n",
    "### Superimpose the structures and calculate RMS deviation (RMSD) between atomic coordinates"
   ]
  },
  {
   "cell_type": "code",
   "execution_count": 15,
   "metadata": {},
   "outputs": [
    {
     "name": "stdout",
     "output_type": "stream",
     "text": [
      "Query and target superimposed, RMSD 0.77 Angstroms\n"
     ]
    }
   ],
   "source": [
    "ppb = Bio.PDB.PPBuilder()\n",
    "\n",
    "query = ppb.build_peptides(structure1)[0][:]\n",
    "target = ppb.build_peptides(structure2)[1][:]\n",
    "\n",
    "query_atoms = [r['CA'] for r in query]\n",
    "target_atoms = [r['CA'] for r in target]\n",
    "\n",
    "superimposer = Bio.PDB.Superimposer()\n",
    "superimposer.set_atoms(query_atoms, target_atoms)\n",
    "\n",
    "print(\"Query and target superimposed, RMSD\", round(superimposer.rms, 2), \"Angstroms\")"
   ]
  },
  {
   "cell_type": "markdown",
   "metadata": {},
   "source": [
    "## Myc-Max in complex with 70551 lead inhibitor"
   ]
  },
  {
   "cell_type": "code",
   "execution_count": 16,
   "metadata": {
    "scrolled": true
   },
   "outputs": [
    {
     "data": {
      "application/vnd.jupyter.widget-view+json": {
       "model_id": "a2fb598c617f48388e0ac8afeb30429a",
       "version_major": 2,
       "version_minor": 0
      },
      "text/plain": [
       "NGLWidget()"
      ]
     },
     "metadata": {},
     "output_type": "display_data"
    }
   ],
   "source": [
    "from rdkit import Chem\n",
    "\n",
    "fn = 'Myc-Max_70551.pdb'\n",
    "structure = Chem.rdmolfiles.MolFromPDBFile(fn)\n",
    "\n",
    "view = nv.show_rdkit(structure)\n",
    "display(view)"
   ]
  },
  {
   "cell_type": "code",
   "execution_count": null,
   "metadata": {},
   "outputs": [],
   "source": []
  }
 ],
 "metadata": {
  "kernelspec": {
   "display_name": "Python 3",
   "language": "python",
   "name": "python3"
  },
  "language_info": {
   "codemirror_mode": {
    "name": "ipython",
    "version": 3
   },
   "file_extension": ".py",
   "mimetype": "text/x-python",
   "name": "python",
   "nbconvert_exporter": "python",
   "pygments_lexer": "ipython3",
   "version": "3.7.10"
  }
 },
 "nbformat": 4,
 "nbformat_minor": 2
}
